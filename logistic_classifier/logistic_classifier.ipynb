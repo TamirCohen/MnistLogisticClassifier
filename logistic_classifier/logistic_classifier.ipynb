{
 "cells": [
  {
   "cell_type": "code",
   "execution_count": 21,
   "metadata": {},
   "outputs": [],
   "source": [
    "import numpy as np\n",
    "import logging\n",
    "import gzip\n",
    "import matplotlib.pyplot as plt\n",
    "\n",
    "PWD=\"/home/duzicman/projects/tau/statistical_machine_learning/logistic_classifier/datasets\"\n",
    "DATASET = {\"labels\": {\"path\" :PWD + \"/train-labels-idx1-ubyte.gz\", \"offset\":8}, \"data\": {\"path\": PWD + \"/train-images-idx3-ubyte.gz\", \"offset\":16}}\n",
    "IMAGE_LENGTH = 28\n",
    "IMAGE_SIZE = IMAGE_LENGTH ** 2\n"
   ]
  },
  {
   "cell_type": "code",
   "execution_count": 22,
   "metadata": {},
   "outputs": [],
   "source": [
    "def load_dataset(file_path, offset):\n",
    "    with gzip.open(file_path, 'rb') as data_file:\n",
    "        data = np.frombuffer(data_file.read(), np.uint8, offset=offset)\n",
    "    return data\n",
    "\n",
    "x_sample = load_dataset(DATASET[\"data\"][\"path\"], DATASET[\"data\"][\"offset\"])\n",
    "t_labels = load_dataset(DATASET[\"labels\"][\"path\"], DATASET[\"labels\"][\"offset\"])\n"
   ]
  },
  {
   "cell_type": "code",
   "execution_count": 23,
   "metadata": {},
   "outputs": [],
   "source": [
    "DATA_SIZE = 1000\n",
    "def one_hot_encoding(labels):\n",
    "    label_ammount = np.max(labels) + 1\n",
    "    return np.eye(label_ammount)[labels]\n",
    "\n",
    "def format_dataset(x_sample, labels):\n",
    "    labels = one_hot_encoding(labels)\n",
    "    x_sample = np.reshape(x_sample, (-1, IMAGE_SIZE))\n",
    "    x_sample = np.c_[x_sample, np.ones(x_sample.shape[0])]\n",
    "    return x_sample, labels\n",
    "\n",
    "x_sample, t_labels = format_dataset(x_sample, t_labels)\n",
    "class_number = t_labels.shape[1]\n",
    "#TODO remove partial data size\n",
    "x_sample = x_sample[:DATA_SIZE] \n",
    "t_labels = t_labels[:DATA_SIZE]\n",
    " \n",
    "x_sample = np.transpose(x_sample)"
   ]
  },
  {
   "cell_type": "code",
   "execution_count": 24,
   "metadata": {},
   "outputs": [],
   "source": [
    "def show_image(image):\n",
    "    pixels = np.reshape(image, (IMAGE_LENGTH, IMAGE_LENGTH))\n",
    "    plt.imshow(pixels, cmap='gray')\n",
    "    plt.show()\n",
    "# show_image(features[0])\n",
    "#TODO I added extra normilization pixel so it doesnt work noe\n",
    "# print(labels[0])\n"
   ]
  },
  {
   "cell_type": "code",
   "execution_count": 33,
   "metadata": {},
   "outputs": [],
   "source": [
    "def cross_entropy_loss(y_labels_probabilites, t_labels) -> float:\n",
    "    natural_log = lambda x: np.log(x)\n",
    "    y_logged = np.matrix.transpose(np.vectorize(natural_log)(y_labels_probabilites))\n",
    "    return -np.trace(np.matmul(t_labels, y_logged))\n",
    "\n",
    "def caculate_lables_probabilities(w_weights, x_sample):\n",
    "    a_logits = np.matmul(np.transpose(x_sample), w_weights)\n",
    "    exponent = lambda x: np.exp(x)\n",
    "    exponent_logits = np.vectorize(exponent)(a_logits)\n",
    "    row_summation = np.sum(exponent_logits, axis=1)[:, np.newaxis]\n",
    "    y_labels_probabilities = exponent_logits /  row_summation\n",
    "    return y_labels_probabilities\n",
    "\n",
    "def cross_entropy_loss_gradient(y_label_probabilites, t_labels, x_sample):\n",
    "    return np.matmul(x_sample, (y_label_probabilites - t_labels))\n",
    "\n",
    "def classification_accuracy(y_label_probabilites, t_labels):\n",
    "    classification = np.eye(y_label_probabilites.shape[0], y_label_probabilites.shape[1])[np.argmax(y_label_probabilites, axis=1)]\n",
    "    return np.sum(np.all(t_labels == classification, axis=1)) / classification.shape[0]\n",
    "\n",
    "#TODO rename probablity to a single name\n",
    "#TODO start with random probabilities\n",
    "w_weights = np.zeros((IMAGE_SIZE + 1, class_number))\n",
    "INITIAL_LEARNING_RATE = 0.0000002\n",
    "eta_learning_rate = INITIAL_LEARNING_RATE"
   ]
  },
  {
   "cell_type": "code",
   "execution_count": 34,
   "metadata": {},
   "outputs": [
    {
     "name": "stdout",
     "output_type": "stream",
     "text": [
      "Loss 538.3414365002342\n",
      "Accuraccy 0.927\n",
      "Steps 32\n"
     ]
    }
   ],
   "source": [
    "def gradient_descent(w_initial_weights, x_sample, t_labels, eta_learning_rate, loss_epsilon):\n",
    "    w_weights = w_initial_weights\n",
    "    accuracies = []\n",
    "    losses = []\n",
    "    #TODO change stop conditiono to accuracies?\n",
    "    while len(losses) < 2 or abs(losses[-1] - losses[-2]) > loss_epsilon:\n",
    "        y_labels_probabilities = caculate_lables_probabilities(w_weights, x_sample)\n",
    "        loss_gradient = cross_entropy_loss_gradient(y_labels_probabilities, t_labels, x_sample)\n",
    "        accuracy = classification_accuracy(y_labels_probabilities, t_labels)\n",
    "        loss = cross_entropy_loss(y_labels_probabilities, t_labels)\n",
    "        losses.append(loss)\n",
    "        accuracies.append(accuracy)\n",
    "        w_weights -= loss_gradient * eta_learning_rate\n",
    "    print(\"Loss {}\".format(loss))\n",
    "    print(\"Accuraccy {}\".format(accuracy))\n",
    "    print(\"Steps {}\".format(len(losses)))\n",
    "\n",
    "gradient_descent(np.zeros((IMAGE_SIZE + 1, class_number)), x_sample, t_labels, eta_learning_rate, 1)\n"
   ]
  },
  {
   "cell_type": "code",
   "execution_count": null,
   "metadata": {},
   "outputs": [],
   "source": []
  }
 ],
 "metadata": {
  "interpreter": {
   "hash": "43730e4488e95e18c9ea2660992fb980f5b43767fd534b6b2cae8f9af4b4bee6"
  },
  "kernelspec": {
   "display_name": "Python 3.10.2 ('venv': venv)",
   "language": "python",
   "name": "python3"
  },
  "language_info": {
   "codemirror_mode": {
    "name": "ipython",
    "version": 3
   },
   "file_extension": ".py",
   "mimetype": "text/x-python",
   "name": "python",
   "nbconvert_exporter": "python",
   "pygments_lexer": "ipython3",
   "version": "3.8.5"
  },
  "orig_nbformat": 4
 },
 "nbformat": 4,
 "nbformat_minor": 2
}
