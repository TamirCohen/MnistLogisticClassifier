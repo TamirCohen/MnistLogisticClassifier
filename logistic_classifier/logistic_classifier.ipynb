{
 "cells": [
  {
   "cell_type": "code",
   "execution_count": 50,
   "metadata": {},
   "outputs": [],
   "source": [
    "import numpy as np\n",
    "import logging\n",
    "import gzip\n",
    "import matplotlib.pyplot as plt\n",
    "\n",
    "PWD=\"/home/duzicman/projects/tau/statistical_machine_learning/logistic_classifier/datasets\"\n",
    "DATASET = {\"labels\": {\"path\" :PWD + \"/train-labels-idx1-ubyte.gz\", \"offset\":8}, \"data\": {\"path\": PWD + \"/train-images-idx3-ubyte.gz\", \"offset\":16}}\n",
    "IMAGE_LENGTH = 28\n",
    "IMAGE_SIZE = IMAGE_LENGTH ** 2\n"
   ]
  },
  {
   "cell_type": "code",
   "execution_count": 51,
   "metadata": {},
   "outputs": [],
   "source": [
    "def load_dataset(file_path, offset):\n",
    "    with gzip.open(file_path, 'rb') as data_file:\n",
    "        data = np.frombuffer(data_file.read(), np.uint8, offset=offset)\n",
    "    return data\n",
    "\n",
    "features = load_dataset(DATASET[\"data\"][\"path\"], DATASET[\"data\"][\"offset\"])\n",
    "labels = load_dataset(DATASET[\"labels\"][\"path\"], DATASET[\"labels\"][\"offset\"])\n"
   ]
  },
  {
   "cell_type": "code",
   "execution_count": 53,
   "metadata": {},
   "outputs": [],
   "source": [
    "def one_hot_encoding(labels):\n",
    "    label_ammount = np.max(labels) + 1\n",
    "    return np.eye(label_ammount)[labels]\n",
    "\n",
    "def format_dataset(features, labels):\n",
    "    labels = one_hot_encoding(labels)\n",
    "    features = np.reshape(features, (-1, IMAGE_SIZE))\n",
    "    features = np.c_[features, np.ones(features.shape[0])]\n",
    "    return features, labels\n",
    "\n",
    "features, labels = format_dataset(features, labels)\n",
    "class_number = labels.shape[1]\n"
   ]
  },
  {
   "cell_type": "code",
   "execution_count": null,
   "metadata": {},
   "outputs": [
    {
     "ename": "ValueError",
     "evalue": "cannot reshape array of size 785 into shape (28,28)",
     "output_type": "error",
     "traceback": [
      "\u001b[0;31m---------------------------------------------------------------------------\u001b[0m",
      "\u001b[0;31mValueError\u001b[0m                                Traceback (most recent call last)",
      "\u001b[1;32m/home/duzicman/projects/tau/statistical_machine_learning/logistic_classifier/logistic_classifier/logistic_classifier.ipynb Cell 4'\u001b[0m in \u001b[0;36m<cell line: 5>\u001b[0;34m()\u001b[0m\n\u001b[1;32m      <a href='vscode-notebook-cell://wsl%2Bubuntu-20.04/home/duzicman/projects/tau/statistical_machine_learning/logistic_classifier/logistic_classifier/logistic_classifier.ipynb#ch0000002vscode-remote?line=2'>3</a>\u001b[0m     plt\u001b[39m.\u001b[39mimshow(pixels, cmap\u001b[39m=\u001b[39m\u001b[39m'\u001b[39m\u001b[39mgray\u001b[39m\u001b[39m'\u001b[39m)\n\u001b[1;32m      <a href='vscode-notebook-cell://wsl%2Bubuntu-20.04/home/duzicman/projects/tau/statistical_machine_learning/logistic_classifier/logistic_classifier/logistic_classifier.ipynb#ch0000002vscode-remote?line=3'>4</a>\u001b[0m     plt\u001b[39m.\u001b[39mshow()\n\u001b[0;32m----> <a href='vscode-notebook-cell://wsl%2Bubuntu-20.04/home/duzicman/projects/tau/statistical_machine_learning/logistic_classifier/logistic_classifier/logistic_classifier.ipynb#ch0000002vscode-remote?line=4'>5</a>\u001b[0m show_image(features[\u001b[39m0\u001b[39;49m])\n\u001b[1;32m      <a href='vscode-notebook-cell://wsl%2Bubuntu-20.04/home/duzicman/projects/tau/statistical_machine_learning/logistic_classifier/logistic_classifier/logistic_classifier.ipynb#ch0000002vscode-remote?line=5'>6</a>\u001b[0m \u001b[39mprint\u001b[39m(labels[\u001b[39m0\u001b[39m])\n",
      "\u001b[1;32m/home/duzicman/projects/tau/statistical_machine_learning/logistic_classifier/logistic_classifier/logistic_classifier.ipynb Cell 4'\u001b[0m in \u001b[0;36mshow_image\u001b[0;34m(image)\u001b[0m\n\u001b[1;32m      <a href='vscode-notebook-cell://wsl%2Bubuntu-20.04/home/duzicman/projects/tau/statistical_machine_learning/logistic_classifier/logistic_classifier/logistic_classifier.ipynb#ch0000002vscode-remote?line=0'>1</a>\u001b[0m \u001b[39mdef\u001b[39;00m \u001b[39mshow_image\u001b[39m(image):\n\u001b[0;32m----> <a href='vscode-notebook-cell://wsl%2Bubuntu-20.04/home/duzicman/projects/tau/statistical_machine_learning/logistic_classifier/logistic_classifier/logistic_classifier.ipynb#ch0000002vscode-remote?line=1'>2</a>\u001b[0m     pixels \u001b[39m=\u001b[39m np\u001b[39m.\u001b[39;49mreshape(image, (IMAGE_LENGTH, IMAGE_LENGTH))\n\u001b[1;32m      <a href='vscode-notebook-cell://wsl%2Bubuntu-20.04/home/duzicman/projects/tau/statistical_machine_learning/logistic_classifier/logistic_classifier/logistic_classifier.ipynb#ch0000002vscode-remote?line=2'>3</a>\u001b[0m     plt\u001b[39m.\u001b[39mimshow(pixels, cmap\u001b[39m=\u001b[39m\u001b[39m'\u001b[39m\u001b[39mgray\u001b[39m\u001b[39m'\u001b[39m)\n\u001b[1;32m      <a href='vscode-notebook-cell://wsl%2Bubuntu-20.04/home/duzicman/projects/tau/statistical_machine_learning/logistic_classifier/logistic_classifier/logistic_classifier.ipynb#ch0000002vscode-remote?line=3'>4</a>\u001b[0m     plt\u001b[39m.\u001b[39mshow()\n",
      "File \u001b[0;32m<__array_function__ internals>:180\u001b[0m, in \u001b[0;36mreshape\u001b[0;34m(*args, **kwargs)\u001b[0m\n",
      "File \u001b[0;32m~/projects/tau/statistical_machine_learning/logistic_classifier/venv/lib/python3.8/site-packages/numpy/core/fromnumeric.py:298\u001b[0m, in \u001b[0;36mreshape\u001b[0;34m(a, newshape, order)\u001b[0m\n\u001b[1;32m    <a href='file:///home/duzicman/projects/tau/statistical_machine_learning/logistic_classifier/venv/lib/python3.8/site-packages/numpy/core/fromnumeric.py?line=197'>198</a>\u001b[0m \u001b[39m@array_function_dispatch\u001b[39m(_reshape_dispatcher)\n\u001b[1;32m    <a href='file:///home/duzicman/projects/tau/statistical_machine_learning/logistic_classifier/venv/lib/python3.8/site-packages/numpy/core/fromnumeric.py?line=198'>199</a>\u001b[0m \u001b[39mdef\u001b[39;00m \u001b[39mreshape\u001b[39m(a, newshape, order\u001b[39m=\u001b[39m\u001b[39m'\u001b[39m\u001b[39mC\u001b[39m\u001b[39m'\u001b[39m):\n\u001b[1;32m    <a href='file:///home/duzicman/projects/tau/statistical_machine_learning/logistic_classifier/venv/lib/python3.8/site-packages/numpy/core/fromnumeric.py?line=199'>200</a>\u001b[0m     \u001b[39m\"\"\"\u001b[39;00m\n\u001b[1;32m    <a href='file:///home/duzicman/projects/tau/statistical_machine_learning/logistic_classifier/venv/lib/python3.8/site-packages/numpy/core/fromnumeric.py?line=200'>201</a>\u001b[0m \u001b[39m    Gives a new shape to an array without changing its data.\u001b[39;00m\n\u001b[1;32m    <a href='file:///home/duzicman/projects/tau/statistical_machine_learning/logistic_classifier/venv/lib/python3.8/site-packages/numpy/core/fromnumeric.py?line=201'>202</a>\u001b[0m \n\u001b[0;32m   (...)\u001b[0m\n\u001b[1;32m    <a href='file:///home/duzicman/projects/tau/statistical_machine_learning/logistic_classifier/venv/lib/python3.8/site-packages/numpy/core/fromnumeric.py?line=295'>296</a>\u001b[0m \u001b[39m           [5, 6]])\u001b[39;00m\n\u001b[1;32m    <a href='file:///home/duzicman/projects/tau/statistical_machine_learning/logistic_classifier/venv/lib/python3.8/site-packages/numpy/core/fromnumeric.py?line=296'>297</a>\u001b[0m \u001b[39m    \"\"\"\u001b[39;00m\n\u001b[0;32m--> <a href='file:///home/duzicman/projects/tau/statistical_machine_learning/logistic_classifier/venv/lib/python3.8/site-packages/numpy/core/fromnumeric.py?line=297'>298</a>\u001b[0m     \u001b[39mreturn\u001b[39;00m _wrapfunc(a, \u001b[39m'\u001b[39;49m\u001b[39mreshape\u001b[39;49m\u001b[39m'\u001b[39;49m, newshape, order\u001b[39m=\u001b[39;49morder)\n",
      "File \u001b[0;32m~/projects/tau/statistical_machine_learning/logistic_classifier/venv/lib/python3.8/site-packages/numpy/core/fromnumeric.py:57\u001b[0m, in \u001b[0;36m_wrapfunc\u001b[0;34m(obj, method, *args, **kwds)\u001b[0m\n\u001b[1;32m     <a href='file:///home/duzicman/projects/tau/statistical_machine_learning/logistic_classifier/venv/lib/python3.8/site-packages/numpy/core/fromnumeric.py?line=53'>54</a>\u001b[0m     \u001b[39mreturn\u001b[39;00m _wrapit(obj, method, \u001b[39m*\u001b[39margs, \u001b[39m*\u001b[39m\u001b[39m*\u001b[39mkwds)\n\u001b[1;32m     <a href='file:///home/duzicman/projects/tau/statistical_machine_learning/logistic_classifier/venv/lib/python3.8/site-packages/numpy/core/fromnumeric.py?line=55'>56</a>\u001b[0m \u001b[39mtry\u001b[39;00m:\n\u001b[0;32m---> <a href='file:///home/duzicman/projects/tau/statistical_machine_learning/logistic_classifier/venv/lib/python3.8/site-packages/numpy/core/fromnumeric.py?line=56'>57</a>\u001b[0m     \u001b[39mreturn\u001b[39;00m bound(\u001b[39m*\u001b[39;49margs, \u001b[39m*\u001b[39;49m\u001b[39m*\u001b[39;49mkwds)\n\u001b[1;32m     <a href='file:///home/duzicman/projects/tau/statistical_machine_learning/logistic_classifier/venv/lib/python3.8/site-packages/numpy/core/fromnumeric.py?line=57'>58</a>\u001b[0m \u001b[39mexcept\u001b[39;00m \u001b[39mTypeError\u001b[39;00m:\n\u001b[1;32m     <a href='file:///home/duzicman/projects/tau/statistical_machine_learning/logistic_classifier/venv/lib/python3.8/site-packages/numpy/core/fromnumeric.py?line=58'>59</a>\u001b[0m     \u001b[39m# A TypeError occurs if the object does have such a method in its\u001b[39;00m\n\u001b[1;32m     <a href='file:///home/duzicman/projects/tau/statistical_machine_learning/logistic_classifier/venv/lib/python3.8/site-packages/numpy/core/fromnumeric.py?line=59'>60</a>\u001b[0m     \u001b[39m# class, but its signature is not identical to that of NumPy's. This\u001b[39;00m\n\u001b[0;32m   (...)\u001b[0m\n\u001b[1;32m     <a href='file:///home/duzicman/projects/tau/statistical_machine_learning/logistic_classifier/venv/lib/python3.8/site-packages/numpy/core/fromnumeric.py?line=63'>64</a>\u001b[0m     \u001b[39m# Call _wrapit from within the except clause to ensure a potential\u001b[39;00m\n\u001b[1;32m     <a href='file:///home/duzicman/projects/tau/statistical_machine_learning/logistic_classifier/venv/lib/python3.8/site-packages/numpy/core/fromnumeric.py?line=64'>65</a>\u001b[0m     \u001b[39m# exception has a traceback chain.\u001b[39;00m\n\u001b[1;32m     <a href='file:///home/duzicman/projects/tau/statistical_machine_learning/logistic_classifier/venv/lib/python3.8/site-packages/numpy/core/fromnumeric.py?line=65'>66</a>\u001b[0m     \u001b[39mreturn\u001b[39;00m _wrapit(obj, method, \u001b[39m*\u001b[39margs, \u001b[39m*\u001b[39m\u001b[39m*\u001b[39mkwds)\n",
      "\u001b[0;31mValueError\u001b[0m: cannot reshape array of size 785 into shape (28,28)"
     ]
    }
   ],
   "source": [
    "def show_image(image):\n",
    "    pixels = np.reshape(image, (IMAGE_LENGTH, IMAGE_LENGTH))\n",
    "    plt.imshow(pixels, cmap='gray')\n",
    "    plt.show()\n",
    "# show_image(features[0])\n",
    "#TODO I added extra normilization pixel so it doesnt work noe\n",
    "# print(labels[0])\n"
   ]
  }
 ],
 "metadata": {
  "interpreter": {
   "hash": "43730e4488e95e18c9ea2660992fb980f5b43767fd534b6b2cae8f9af4b4bee6"
  },
  "kernelspec": {
   "display_name": "Python 3.10.2 ('venv': venv)",
   "language": "python",
   "name": "python3"
  },
  "language_info": {
   "codemirror_mode": {
    "name": "ipython",
    "version": 3
   },
   "file_extension": ".py",
   "mimetype": "text/x-python",
   "name": "python",
   "nbconvert_exporter": "python",
   "pygments_lexer": "ipython3",
   "version": "3.8.5"
  },
  "orig_nbformat": 4
 },
 "nbformat": 4,
 "nbformat_minor": 2
}
