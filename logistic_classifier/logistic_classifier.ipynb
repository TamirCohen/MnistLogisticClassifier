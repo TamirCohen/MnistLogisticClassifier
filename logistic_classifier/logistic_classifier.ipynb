{
 "cells": [
  {
   "cell_type": "code",
   "execution_count": 1,
   "metadata": {},
   "outputs": [],
   "source": [
    "import numpy as np\n",
    "import logging\n",
    "import gzip\n",
    "import matplotlib.pyplot as plt\n",
    "\n",
    "PWD=\"/home/duzicman/projects/tau/statistical_machine_learning/logistic_classifier/datasets\"\n",
    "DATASET = {\"labels\": {\"path\" :PWD + \"/train-labels-idx1-ubyte.gz\", \"offset\":8}, \"data\": {\"path\": PWD + \"/train-images-idx3-ubyte.gz\", \"offset\":16}}\n",
    "IMAGE_LENGTH = 28\n",
    "IMAGE_SIZE = IMAGE_LENGTH ** 2\n",
    "TRAINING_SET_SIZE = 0.6\n",
    "VALIDATION_SET_SIZE = 0.2\n",
    "TEST_SET_SIZE = 0.2\n",
    "INITIAL_LEARNING_RATE = 0.0000002"
   ]
  },
  {
   "cell_type": "code",
   "execution_count": 2,
   "metadata": {},
   "outputs": [],
   "source": [
    "def load_dataset(file_path, offset):\n",
    "    with gzip.open(file_path, 'rb') as data_file:\n",
    "        data = np.frombuffer(data_file.read(), np.uint8, offset=offset)\n",
    "    return data\n",
    "\n",
    "x_sample = load_dataset(DATASET[\"data\"][\"path\"], DATASET[\"data\"][\"offset\"])\n",
    "t_labels = load_dataset(DATASET[\"labels\"][\"path\"], DATASET[\"labels\"][\"offset\"])\n"
   ]
  },
  {
   "cell_type": "code",
   "execution_count": 3,
   "metadata": {},
   "outputs": [
    {
     "name": "stdout",
     "output_type": "stream",
     "text": [
      "(60000, 785)\n"
     ]
    }
   ],
   "source": [
    "DATA_SIZE = 1000\n",
    "def one_hot_encoding(labels):\n",
    "    label_ammount = np.max(labels) + 1\n",
    "    return np.eye(label_ammount)[labels]\n",
    "\n",
    "def format_dataset(x_sample, labels):\n",
    "    labels = one_hot_encoding(labels)\n",
    "    x_sample = np.reshape(x_sample, (-1, IMAGE_SIZE))\n",
    "    x_sample = np.c_[x_sample, np.ones(x_sample.shape[0])]\n",
    "    return x_sample, labels\n",
    "\n",
    "def split_data_set(x_sample, t_labels, training_size, validation_size, test_size):\n",
    "    indices = np.random.permutation(x_sample.shape[1])\n",
    "    print(x_sample.shape)\n",
    "    training_idx, validation_idx, test_idx = indices[:int(len(indices) * training_size)], indices[int(len(indices) * training_size):int(len(indices) * (validation_size + training_size))], indices[int(len(indices) * (validation_size + training_size)):]\n",
    "    training = [x_sample[training_idx, :], t_labels[training_idx, :]]\n",
    "    test = [x_sample[test_idx, :], t_labels[test_idx, :]]\n",
    "    validation = [x_sample[validation_idx, :], t_labels[validation_idx, :]]\n",
    "    return training, test, validation\n",
    "\n",
    "\n",
    "x_sample, t_labels = format_dataset(x_sample, t_labels)\n",
    "training, test, validation = split_data_set(x_sample, t_labels, TRAINING_SET_SIZE, VALIDATION_SET_SIZE, TEST_SET_SIZE)\n",
    "\n",
    "\n",
    "class_number = t_labels.shape[1]\n",
    "training[0] = np.transpose(training[0])\n",
    "test[0] = np.transpose(test[0])\n",
    "validation[0] = np.transpose(validation[0])"
   ]
  },
  {
   "cell_type": "code",
   "execution_count": 4,
   "metadata": {},
   "outputs": [],
   "source": [
    "def show_image(image):\n",
    "    pixels = np.reshape(image, (IMAGE_LENGTH, IMAGE_LENGTH))\n",
    "    plt.imshow(pixels, cmap='gray')\n",
    "    plt.show()\n",
    "# show_image(features[0])\n",
    "#TODO I added extra normilization pixel so it doesnt work noe\n",
    "# print(labels[0])\n"
   ]
  },
  {
   "cell_type": "code",
   "execution_count": 5,
   "metadata": {},
   "outputs": [],
   "source": [
    "def cross_entropy_loss(y_labels_probabilites, t_labels) -> float:\n",
    "    natural_log = lambda x: np.log(x)\n",
    "    y_logged = np.matrix.transpose(np.vectorize(natural_log)(y_labels_probabilites))\n",
    "    return -np.trace(np.matmul(t_labels, y_logged))\n",
    "\n",
    "def caculate_lables_probabilities(w_weights, x_sample):\n",
    "    # a_logits = np.matmul(np.transpose(x_sample), w_weights)\n",
    "    a_logits = np.matmul(np.transpose(x_sample), w_weights)\n",
    "    exponent = lambda x: np.exp(x)\n",
    "    exponent_logits = np.vectorize(exponent)(a_logits)\n",
    "    row_summation = np.sum(exponent_logits, axis=1)[:, np.newaxis]\n",
    "    y_labels_probabilities = exponent_logits /  row_summation\n",
    "    return y_labels_probabilities\n",
    "\n",
    "def cross_entropy_loss_gradient(y_label_probabilites, t_labels, x_sample):\n",
    "    return np.matmul(x_sample, (y_label_probabilites - t_labels))\n",
    "\n",
    "def classification_accuracy(y_label_probabilites, t_labels):\n",
    "    classification = np.eye(y_label_probabilites.shape[0], y_label_probabilites.shape[1])[np.argmax(y_label_probabilites, axis=1)]\n",
    "    return np.sum(np.all(t_labels == classification, axis=1)) / classification.shape[0]\n",
    "\n",
    "def callisification_matrics(w_weights, t_labels, x_sample):\n",
    "    y_labels_probabilities = caculate_lables_probabilities(w_weights, x_sample)\n",
    "    accuracy = classification_accuracy(y_labels_probabilities, t_labels)\n",
    "    loss = cross_entropy_loss(y_labels_probabilities, t_labels)\n",
    "    return y_labels_probabilities, accuracy, loss\n",
    "\n",
    "\n",
    "\n",
    "\n",
    "#TODO rename probablity to a single name\n",
    "#TODO start with random probabilities\n",
    "eta_learning_rate = INITIAL_LEARNING_RATE"
   ]
  },
  {
   "cell_type": "code",
   "execution_count": 11,
   "metadata": {},
   "outputs": [
    {
     "data": {
      "image/png": "[encoded data removed]",
      "text/plain": [
       "<Figure size 432x288 with 1 Axes>"
      ]
     },
     "metadata": {
      "needs_background": "light"
     },
     "output_type": "display_data"
    },
    {
     "data": {
      "image/png": "[encoded data removed]",
      "text/plain": [
       "<Figure size 432x288 with 1 Axes>"
      ]
     },
     "metadata": {
      "needs_background": "light"
     },
     "output_type": "display_data"
    },
    {
     "name": "stdout",
     "output_type": "stream",
     "text": [
      "Training Loss 194.438395787031\n",
      "Training Accuraccy 0.910828025477707\n",
      "Validation Loss 171.60137591856972\n",
      "Validation Accuraccy 0.8598726114649682\n",
      "Steps 16\n",
      "Test Accuraccy 0.7834394904458599\n"
     ]
    }
   ],
   "source": [
    "def gradient_descent(w_initial_weights, training, validation, eta_learning_rate, loss_epsilon):\n",
    "    w_weights = w_initial_weights\n",
    "    training_accuracies = []\n",
    "    training_losses = []\n",
    "    validation_losses = []\n",
    "    validation_accuracies = []\n",
    "    #TODO change stop conditiono to accuracies?\n",
    "    x_training_sample, t_training_labels = training\n",
    "    x_validation_sample, t_validation_labels = validation\n",
    "    while len(validation_accuracies) < 2 or abs(validation_accuracies[-1] - validation_accuracies[-2]) > loss_epsilon:\n",
    "        y_training_labels_probabilities, training_accuracy, training_loss = callisification_matrics(w_weights, t_training_labels, x_training_sample)\n",
    "        y_validation_labels_probabilities, validation_accuracy, validation_loss = callisification_matrics(w_weights, t_validation_labels, x_validation_sample)\n",
    "        loss_gradient = cross_entropy_loss_gradient(y_training_labels_probabilities, t_training_labels, x_training_sample)\n",
    "        training_losses.append(training_loss)\n",
    "        training_accuracies.append(training_accuracy)\n",
    "        validation_losses.append(validation_loss)\n",
    "        validation_accuracies.append(validation_accuracy)\n",
    "\n",
    "        w_weights -= loss_gradient * eta_learning_rate\n",
    "    \n",
    "    plt.title(\"Accuracy\")\n",
    "    plt.plot(range(len(training_accuracies)),training_accuracies, color=\"red\")\n",
    "    plt.plot(training_accuracies, color=\"red\")\n",
    "    plt.plot(validation_accuracies, color=\"blue\")\n",
    "    plt.show()\n",
    "    plt.plot(training_losses)\n",
    "    plt.show()\n",
    "    print(\"Training Loss {}\".format(training_loss))\n",
    "    print(\"Training Accuraccy {}\".format(training_accuracy))\n",
    "    print(\"Validation Loss {}\".format(validation_loss))\n",
    "    print(\"Validation Accuraccy {}\".format(validation_accuracy))\n",
    "    print(\"Steps {}\".format(len(training_losses)))\n",
    "    return w_weights\n",
    "\n",
    "\n",
    "w_weights = gradient_descent(np.zeros((IMAGE_SIZE + 1, class_number)), training, validation, eta_learning_rate, 0.001)\n",
    "x_test_sample, t_test_labels = test\n",
    "\n",
    "_, test_accuracy, _ = callisification_matrics(w_weights, t_test_labels, x_test_sample)\n",
    "print(\"Test Accuraccy {}\".format(test_accuracy))\n",
    "\n"
   ]
  },
  {
   "cell_type": "code",
   "execution_count": null,
   "metadata": {},
   "outputs": [],
   "source": []
  }
 ],
 "metadata": {
  "interpreter": {
   "hash": "43730e4488e95e18c9ea2660992fb980f5b43767fd534b6b2cae8f9af4b4bee6"
  },
  "kernelspec": {
   "display_name": "Python 3.10.2 ('venv': venv)",
   "language": "python",
   "name": "python3"
  },
  "language_info": {
   "codemirror_mode": {
    "name": "ipython",
    "version": 3
   },
   "file_extension": ".py",
   "mimetype": "text/x-python",
   "name": "python",
   "nbconvert_exporter": "python",
   "pygments_lexer": "ipython3",
   "version": "3.8.5"
  },
  "orig_nbformat": 4
 },
 "nbformat": 4,
 "nbformat_minor": 2
}
